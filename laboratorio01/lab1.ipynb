{
 "cells": [
  {
   "cell_type": "markdown",
   "metadata": {
    "id": "tfwOfkjclHQx"
   },
   "source": [
    "# Ejercicio de programación Regresión Lineal Multiple"
   ]
  },
  {
   "cell_type": "code",
   "execution_count": 3,
   "metadata": {
    "executionInfo": {
     "elapsed": 10,
     "status": "ok",
     "timestamp": 1755620066427,
     "user": {
      "displayName": "Carlos Walter Pacheco Lora",
      "userId": "05889892519883337793"
     },
     "user_tz": 240
    },
    "id": "f0WGMMljlHQz"
   },
   "outputs": [],
   "source": [
    "# utilizado para manejos de directorios y rutas\n",
    "import os\n",
    "\n",
    "# Computacion vectorial y cientifica para python\n",
    "import numpy as np\n",
    "import pandas as pd  # ← necesario para leer CSV de Kaggle\n",
    "\n",
    "# Librerias para graficación (trazado de gráficos)\n",
    "from matplotlib import pyplot\n",
    "from mpl_toolkits.mplot3d import Axes3D  # Necesario para graficar superficies 3D\n",
    "\n",
    "# llama a matplotlib a embeber graficas dentro de los cuadernillos\n",
    "%matplotlib inline"
   ]
  },
  {
   "cell_type": "markdown",
   "metadata": {
    "id": "G6-ykOwelHQ0"
   },
   "source": [
    "## 2 Regresión lineal con multiples variables\n",
    "\n",
    "Se implementa la regresion lineal multivariable para predecir el precio de las casas. El archivo `Datasets/ex1data2.txt` contiene un conjunto de entrenamiento de precios de casas en Portland, Oregon. La primera columna es el tamaño de la casa en metros cuadrados, la segunda columna es el numero de cuartos, y la tercera columna es el precio de la casa.\n",
    "\n",
    "<a id=\"section4\"></a>\n",
    "### 2.1 Normalización de caracteristicas\n",
    "\n",
    "Al visualizar los datos se puede observar que las caracteristicas tienen diferentes magnitudes, por lo cual se debe transformar cada valor en una escala de valores similares, esto con el fin de que el descenso por el gradiente pueda converger mas rapidamente."
   ]
  },
  {
   "cell_type": "code",
   "execution_count": 5,
   "metadata": {
    "colab": {
     "base_uri": "https://localhost:8080/"
    },
    "executionInfo": {
     "elapsed": 15,
     "status": "ok",
     "timestamp": 1755620068761,
     "user": {
      "displayName": "Carlos Walter Pacheco Lora",
      "userId": "05889892519883337793"
     },
     "user_tz": 240
    },
    "id": "6BP5grkxlHQ0",
    "outputId": "382b3d03-577b-48e8-9513-ec0afbc25804"
   },
   "outputs": [
    {
     "name": "stdout",
     "output_type": "stream",
     "text": [
      "1460\n",
      "Número de características: 244\n"
     ]
    }
   ],
   "source": [
    "# Cargar datos\n",
    "data = pd.read_csv('train.csv')\n",
    "\n",
    "# Variables predictoras: quitamos Id y SalePrice\n",
    "X = data.drop(columns=[\"Id\", \"SalePrice\"])\n",
    "\n",
    "# Convertir categóricas a numéricas\n",
    "X = pd.get_dummies(X, drop_first=True)\n",
    "\n",
    "# Variable objetivo\n",
    "y = data[\"SalePrice\"].values\n",
    "\n",
    "# Convertir X a numpy\n",
    "X = X.values\n",
    "\n",
    "m = y.size\n",
    "print(m)\n",
    "print(\"Número de características:\", X.shape[1])"
   ]
  },
  {
   "cell_type": "markdown",
   "metadata": {
    "id": "7iU_3mwZlHQ1"
   },
   "source": [
    "La desviación estándar es una forma de medir cuánta variación hay en el rango de valores de una característica en particular (la mayoría de los puntos caeran en un rango de ± 2 en relación a la desviaciones estándar de la media); esta es una alternativa a tomar el rango de valores (max-min). En `numpy`, se puede usar la función `std` para calcular la desviacion estandar.\n",
    "\n",
    "Por ejemplo, la caracteristica`X[:, 0]` contiene todos los valores de $x_1$ (tamaño de las casas) en el conjunto de entrenamiento, entonces `np.std(X[:, 0])` calcula la desviacion estandar de los tamaños de las casas.\n",
    "En el momento en que se llama a la función `featureNormalize`, la columna adicional de unos correspondiente a $ x_0 = 1 $ aún no se ha agregado a $ X $.\n",
    "\n",
    "<div class=\"alert alert-block alert-warning\">\n",
    "**Notas para la implementación:** Cuando se normalize una caracteristica, es importante almacenar los valores usados para la normalización - el valor de la media y el valor de la desviación estandar usado para los calculos. Despues de aprender los parametros del modelo, se deseara predecir los precios de casas que no se han visto antes. Dado un nuevo valor de x (area del living room y el numero de dormitorios), primero se debe normalizar x usando la media y la desviacion estandar que se empleo anteriormente en el conjunto de entrenamiento para entrenar el modelo.\n",
    "</div>\n",
    "<a id=\"featureNormalize\"></a>"
   ]
  },
  {
   "cell_type": "code",
   "execution_count": 9,
   "metadata": {
    "executionInfo": {
     "elapsed": 11,
     "status": "ok",
     "timestamp": 1755620068761,
     "user": {
      "displayName": "Carlos Walter Pacheco Lora",
      "userId": "05889892519883337793"
     },
     "user_tz": 240
    },
    "id": "7xFD8H3WlHQ1"
   },
   "outputs": [],
   "source": [
    "X = X.astype(float)         # <-- convierte a float\n",
    "X = np.nan_to_num(X)        # <-- reemplaza NaNs con 0\n",
    "def  featureNormalize(X):\n",
    "\n",
    "    X_norm = X.copy()\n",
    "    mu = np.zeros(X.shape[1])\n",
    "    sigma = np.zeros(X.shape[1])\n",
    "\n",
    "    mu = np.mean(X, axis = 0)\n",
    "    sigma = np.std(X, axis = 0)\n",
    "    X_norm = (X - mu) / sigma\n",
    "\n",
    "    return X_norm, mu, sigma"
   ]
  },
  {
   "cell_type": "code",
   "execution_count": 10,
   "metadata": {
    "colab": {
     "base_uri": "https://localhost:8080/"
    },
    "executionInfo": {
     "elapsed": 11,
     "status": "ok",
     "timestamp": 1755620068762,
     "user": {
      "displayName": "Carlos Walter Pacheco Lora",
      "userId": "05889892519883337793"
     },
     "user_tz": 240
    },
    "id": "ipL_QsTZlHQ2",
    "outputId": "9cc2053d-1877-48d5-fa34-63d75ae64c1f"
   },
   "outputs": [
    {
     "name": "stdout",
     "output_type": "stream",
     "text": [
      "[[6.000e+01 6.500e+01 8.450e+03 ... 0.000e+00 1.000e+00 0.000e+00]\n",
      " [2.000e+01 8.000e+01 9.600e+03 ... 0.000e+00 1.000e+00 0.000e+00]\n",
      " [6.000e+01 6.800e+01 1.125e+04 ... 0.000e+00 1.000e+00 0.000e+00]\n",
      " ...\n",
      " [7.000e+01 6.600e+01 9.042e+03 ... 0.000e+00 1.000e+00 0.000e+00]\n",
      " [2.000e+01 6.800e+01 9.717e+03 ... 0.000e+00 1.000e+00 0.000e+00]\n",
      " [2.000e+01 7.500e+01 9.937e+03 ... 0.000e+00 1.000e+00 0.000e+00]]\n",
      "Media calculada: [5.68972603e+01 5.76232877e+01 1.05168281e+04 6.09931507e+00\n",
      " 5.57534247e+00 1.97126781e+03 1.98486575e+03 1.03117123e+02\n",
      " 4.43639726e+02 4.65493151e+01 5.67240411e+02 1.05742945e+03\n",
      " 1.16262671e+03 3.46992466e+02 5.84452055e+00 1.51546370e+03\n",
      " 4.25342466e-01 5.75342466e-02 1.56506849e+00 3.82876712e-01\n",
      " 2.86643836e+00 1.04657534e+00 6.51780822e+00 6.13013699e-01\n",
      " 1.86873973e+03 1.76712329e+00 4.72980137e+02 9.42445205e+01\n",
      " 4.66602740e+01 2.19541096e+01 3.40958904e+00 1.50609589e+01\n",
      " 2.75890411e+00 4.34890411e+01 6.32191781e+00 2.00781575e+03\n",
      " 4.45205479e-02 1.09589041e-02 7.88356164e-01 1.49315068e-01\n",
      " 9.95890411e-01 2.80821918e-02 2.80821918e-02 6.84931507e-03\n",
      " 6.33561644e-01 3.42465753e-02 2.46575342e-02 8.97945205e-01\n",
      " 6.84931507e-04 6.43835616e-02 3.21917808e-02 2.73972603e-03\n",
      " 7.20547945e-01 4.45205479e-02 8.90410959e-03 1.36986301e-03\n",
      " 1.09589041e-02 3.97260274e-02 1.91780822e-02 1.02739726e-01\n",
      " 3.49315068e-02 6.84931507e-02 5.41095890e-02 2.53424658e-02\n",
      " 1.16438356e-02 3.35616438e-02 1.54109589e-01 6.16438356e-03\n",
      " 5.00000000e-02 2.80821918e-02 5.27397260e-02 7.73972603e-02\n",
      " 1.71232877e-02 5.06849315e-02 4.04109589e-02 5.89041096e-02\n",
      " 1.71232877e-02 2.60273973e-02 7.53424658e-03 5.54794521e-02\n",
      " 8.63013699e-01 5.47945205e-03 1.30136986e-02 7.53424658e-03\n",
      " 1.78082192e-02 1.36986301e-03 3.42465753e-03 4.10958904e-03\n",
      " 9.89726027e-01 6.84931507e-04 1.36986301e-03 6.84931507e-04\n",
      " 6.84931507e-04 1.36986301e-03 2.12328767e-02 3.56164384e-02\n",
      " 2.94520548e-02 7.80821918e-02 9.58904110e-03 4.97260274e-01\n",
      " 5.47945205e-03 7.53424658e-03 3.04794521e-01 2.53424658e-02\n",
      " 4.45205479e-02 7.81506849e-01 7.53424658e-03 1.95890411e-01\n",
      " 4.79452055e-03 1.36986301e-03 9.82191781e-01 6.84931507e-04\n",
      " 6.84931507e-04 6.84931507e-04 7.53424658e-03 3.42465753e-03\n",
      " 4.10958904e-03 6.84931507e-04 1.36986301e-03 3.42465753e-02\n",
      " 6.84931507e-04 4.17808219e-02 1.52054795e-01 6.84931507e-04\n",
      " 1.50684932e-01 7.39726027e-02 1.36986301e-03 1.71232877e-02\n",
      " 3.52739726e-01 1.41095890e-01 1.78082192e-02 2.05479452e-03\n",
      " 4.79452055e-03 1.71232877e-02 6.84931507e-04 4.10958904e-02\n",
      " 1.41780822e-01 6.84931507e-03 1.46575342e-01 6.84931507e-04\n",
      " 9.72602740e-02 3.42465753e-03 1.78082192e-02 3.45205479e-01\n",
      " 1.34931507e-01 2.60273973e-02 3.04794521e-01 8.76712329e-02\n",
      " 9.58904110e-03 3.34246575e-01 6.20547945e-01 1.91780822e-02\n",
      " 1.00000000e-01 6.84931507e-04 8.78082192e-01 4.34246575e-01\n",
      " 4.43150685e-01 1.64383562e-02 4.10958904e-03 2.05479452e-03\n",
      " 2.39726027e-02 4.23287671e-01 4.44520548e-01 4.45205479e-02\n",
      " 1.36986301e-03 8.97945205e-01 9.17808219e-02 7.80821918e-02\n",
      " 6.52739726e-01 1.01369863e-01 2.86301370e-01 5.06849315e-02\n",
      " 9.10958904e-02 2.94520548e-01 2.26027397e-02 9.58904110e-03\n",
      " 3.15068493e-02 3.69863014e-02 8.60273973e-01 9.78082192e-01\n",
      " 1.23287671e-02 4.79452055e-03 1.36986301e-03 2.73972603e-03\n",
      " 3.35616438e-02 1.65068493e-01 6.84931507e-04 2.93150685e-01\n",
      " 9.34931507e-01 1.84931507e-02 2.05479452e-03 6.84931507e-04\n",
      " 9.13698630e-01 2.67123288e-02 4.01369863e-01 5.03424658e-01\n",
      " 3.42465753e-03 2.12328767e-02 2.32876712e-02 1.02739726e-02\n",
      " 6.84931507e-04 9.31506849e-01 2.26027397e-02 2.60273973e-01\n",
      " 1.36986301e-02 2.14383562e-01 5.95890411e-01 1.30136986e-02\n",
      " 6.02739726e-02 6.16438356e-03 2.65068493e-01 2.89041096e-01\n",
      " 4.14383562e-01 3.28767123e-02 9.58904110e-03 2.05479452e-03\n",
      " 8.97945205e-01 2.39726027e-02 6.16438356e-03 4.79452055e-03\n",
      " 9.08219178e-01 2.05479452e-02 9.17808219e-01 1.36986301e-03\n",
      " 2.05479452e-03 3.69863014e-02 1.07534247e-01 7.53424658e-03\n",
      " 1.36986301e-03 3.35616438e-02 6.84931507e-04 2.73972603e-03\n",
      " 1.36986301e-03 6.16438356e-03 3.42465753e-03 3.42465753e-03\n",
      " 8.35616438e-02 2.05479452e-03 8.67808219e-01 2.73972603e-03\n",
      " 8.21917808e-03 1.36986301e-02 8.20547945e-01 8.56164384e-02]\n",
      "Desviación estandar calculada: [4.22860820e+01 3.46524309e+01 9.97784611e+03 1.38252284e+00\n",
      " 1.11241818e+00 3.01925588e+01 2.06383353e+01 1.80669468e+02\n",
      " 4.55941866e+02 1.61264017e+02 4.41715605e+02 4.38555057e+02\n",
      " 3.86455322e+02 4.36378914e+02 4.86064268e+01 5.25300394e+02\n",
      " 5.18732867e-01 2.38670868e-01 5.50727099e-01 5.02713131e-01\n",
      " 8.15498620e-01 2.20262727e-01 1.62483655e+00 6.44445572e-01\n",
      " 4.53541893e+02 7.47059036e-01 2.13731608e+02 1.25295863e+02\n",
      " 6.62333334e+01 6.10982138e+01 2.93072887e+01 5.57383170e+01\n",
      " 4.01635452e+01 4.95953090e+02 2.70270015e+00 1.32764022e+00\n",
      " 2.06248561e-01 1.04109589e-01 4.08473650e-01 3.56398764e-01\n",
      " 6.39742160e-02 1.65207694e-01 1.65207694e-01 8.24766752e-02\n",
      " 4.81831181e-01 1.81861891e-01 1.55079142e-01 3.02720355e-01\n",
      " 2.61622319e-02 2.45434958e-01 1.76509122e-01 5.22706412e-02\n",
      " 4.48729990e-01 2.06248561e-01 9.39405473e-02 3.69863014e-02\n",
      " 1.04109589e-01 1.95314798e-01 1.37150586e-01 3.03618634e-01\n",
      " 1.83606363e-01 2.52590259e-01 2.26233820e-01 1.57163053e-01\n",
      " 1.07276543e-01 1.80097918e-01 3.61053768e-01 7.82712204e-02\n",
      " 2.17944947e-01 1.65207694e-01 2.23513416e-01 2.67220741e-01\n",
      " 1.29730801e-01 2.19353526e-01 1.96921084e-01 2.35445143e-01\n",
      " 1.29730801e-01 1.59216745e-01 8.64724332e-02 2.28913701e-01\n",
      " 3.43832888e-01 7.38202388e-02 1.13332883e-01 8.64724332e-02\n",
      " 1.32253871e-01 3.69863014e-02 5.84202812e-02 6.39742160e-02\n",
      " 1.00838574e-01 2.61622319e-02 3.69863014e-02 2.61622319e-02\n",
      " 2.61622319e-02 3.69863014e-02 1.44159778e-01 1.85331885e-01\n",
      " 1.69069901e-01 2.68300882e-01 9.74530214e-02 4.99992494e-01\n",
      " 7.38202388e-02 8.64724332e-02 4.60320346e-01 1.57163053e-01\n",
      " 2.06248561e-01 4.13223782e-01 8.64724332e-02 3.96884565e-01\n",
      " 6.90762848e-02 3.69863014e-02 1.32253871e-01 2.61622319e-02\n",
      " 2.61622319e-02 2.61622319e-02 8.64724332e-02 5.84202812e-02\n",
      " 6.39742160e-02 2.61622319e-02 3.69863014e-02 1.81861891e-01\n",
      " 2.61622319e-02 2.00087943e-01 3.59073995e-01 2.61622319e-02\n",
      " 3.57741503e-01 2.61726301e-01 3.69863014e-02 1.29730801e-01\n",
      " 4.77822573e-01 3.48120439e-01 1.32253871e-01 4.52832457e-02\n",
      " 6.90762848e-02 1.29730801e-01 2.61622319e-02 1.98512010e-01\n",
      " 3.48825200e-01 8.24766752e-02 3.53682077e-01 2.61622319e-02\n",
      " 2.96311851e-01 5.84202812e-02 1.32253871e-01 4.75435228e-01\n",
      " 3.41650399e-01 1.59216745e-01 4.60320346e-01 2.82816173e-01\n",
      " 9.74530214e-02 4.71726406e-01 4.85250650e-01 1.37150586e-01\n",
      " 3.00000000e-01 2.61622319e-02 3.27190856e-01 4.95657631e-01\n",
      " 4.96757642e-01 1.27153988e-01 6.39742160e-02 4.52832457e-02\n",
      " 1.52963777e-01 4.94080174e-01 4.96912498e-01 2.06248561e-01\n",
      " 3.69863014e-02 3.02720355e-01 2.88716301e-01 2.68300882e-01\n",
      " 4.76099334e-01 3.01817849e-01 4.52031963e-01 2.19353526e-01\n",
      " 2.87745424e-01 4.55826935e-01 1.48633293e-01 9.74530214e-02\n",
      " 1.74683049e-01 1.88728151e-01 3.46702559e-01 1.46415224e-01\n",
      " 1.10348397e-01 6.90762848e-02 3.69863014e-02 5.22706412e-02\n",
      " 1.80097918e-01 3.71242354e-01 2.61622319e-02 4.55206943e-01\n",
      " 2.46646679e-01 1.34726219e-01 4.52832457e-02 2.61622319e-02\n",
      " 2.80808553e-01 1.61241373e-01 4.90175577e-01 4.99988272e-01\n",
      " 5.84202812e-02 1.44159778e-01 1.50815634e-01 1.00838574e-01\n",
      " 2.61622319e-02 2.52590259e-01 1.48633293e-01 4.38784038e-01\n",
      " 1.16236731e-01 4.10394018e-01 4.90718890e-01 1.13332883e-01\n",
      " 2.37993741e-01 7.82712204e-02 4.41369672e-01 4.53317042e-01\n",
      " 4.92615292e-01 1.78313864e-01 9.74530214e-02 4.52832457e-02\n",
      " 3.02720355e-01 1.52963777e-01 7.82712204e-02 6.90762848e-02\n",
      " 2.88716301e-01 1.41865172e-01 2.74656680e-01 3.69863014e-02\n",
      " 4.52832457e-02 1.88728151e-01 3.09791272e-01 8.64724332e-02\n",
      " 3.69863014e-02 1.80097918e-01 2.61622319e-02 5.22706412e-02\n",
      " 3.69863014e-02 7.82712204e-02 5.84202812e-02 5.84202812e-02\n",
      " 2.76729282e-01 4.52832457e-02 3.38699150e-01 5.22706412e-02\n",
      " 9.02863400e-02 1.16236731e-01 3.83730393e-01 2.79796826e-01]\n",
      "[[ 0.07337496  0.2128772  -0.20714171 ... -0.11785113  0.4676514\n",
      "  -0.30599503]\n",
      " [-0.87256276  0.64574726 -0.09188637 ... -0.11785113  0.4676514\n",
      "  -0.30599503]\n",
      " [ 0.07337496  0.29945121  0.07347998 ... -0.11785113  0.4676514\n",
      "  -0.30599503]\n",
      " ...\n",
      " [ 0.30985939  0.2417352  -0.14781027 ... -0.11785113  0.4676514\n",
      "  -0.30599503]\n",
      " [-0.87256276  0.29945121 -0.08016039 ... -0.11785113  0.4676514\n",
      "  -0.30599503]\n",
      " [-0.87256276  0.50145724 -0.05811155 ... -0.11785113  0.4676514\n",
      "  -0.30599503]]\n"
     ]
    }
   ],
   "source": [
    "# llama featureNormalize con los datos cargados\n",
    "X_norm, mu, sigma = featureNormalize(X)\n",
    "\n",
    "print(X)\n",
    "print('Media calculada:', mu)\n",
    "print('Desviación estandar calculada:', sigma)\n",
    "print(X_norm)"
   ]
  },
  {
   "cell_type": "code",
   "execution_count": 21,
   "metadata": {
    "executionInfo": {
     "elapsed": 25,
     "status": "ok",
     "timestamp": 1755620068779,
     "user": {
      "displayName": "Carlos Walter Pacheco Lora",
      "userId": "05889892519883337793"
     },
     "user_tz": 240
    },
    "id": "Tw-uAOTXQVoV"
   },
   "outputs": [],
   "source": []
  },
  {
   "cell_type": "markdown",
   "metadata": {
    "id": "it9bMYuLlHQ2"
   },
   "source": [
    "Despues de `featureNormalize` la funcion es provada, se añade el temino de interseccion a `X_norm`:"
   ]
  },
  {
   "cell_type": "code",
   "execution_count": 11,
   "metadata": {
    "executionInfo": {
     "elapsed": 2,
     "status": "ok",
     "timestamp": 1755620068780,
     "user": {
      "displayName": "Carlos Walter Pacheco Lora",
      "userId": "05889892519883337793"
     },
     "user_tz": 240
    },
    "id": "nNaGVxgolHQ2"
   },
   "outputs": [],
   "source": [
    "# Añade el termino de interseccion a X\n",
    "# (Columna de unos para X0)\n",
    "X = np.concatenate([np.ones((m, 1)), X_norm], axis=1)"
   ]
  },
  {
   "cell_type": "code",
   "execution_count": 12,
   "metadata": {
    "colab": {
     "base_uri": "https://localhost:8080/"
    },
    "executionInfo": {
     "elapsed": 11,
     "status": "ok",
     "timestamp": 1755620068793,
     "user": {
      "displayName": "Carlos Walter Pacheco Lora",
      "userId": "05889892519883337793"
     },
     "user_tz": 240
    },
    "id": "nbUVohnhlHQ3",
    "outputId": "f34936a0-a661-4f25-c4ac-068c12ac4824"
   },
   "outputs": [
    {
     "name": "stdout",
     "output_type": "stream",
     "text": [
      "[[ 1.          0.07337496  0.2128772  ... -0.11785113  0.4676514\n",
      "  -0.30599503]\n",
      " [ 1.         -0.87256276  0.64574726 ... -0.11785113  0.4676514\n",
      "  -0.30599503]\n",
      " [ 1.          0.07337496  0.29945121 ... -0.11785113  0.4676514\n",
      "  -0.30599503]\n",
      " ...\n",
      " [ 1.          0.30985939  0.2417352  ... -0.11785113  0.4676514\n",
      "  -0.30599503]\n",
      " [ 1.         -0.87256276  0.29945121 ... -0.11785113  0.4676514\n",
      "  -0.30599503]\n",
      " [ 1.         -0.87256276  0.50145724 ... -0.11785113  0.4676514\n",
      "  -0.30599503]]\n"
     ]
    }
   ],
   "source": [
    "print(X)"
   ]
  },
  {
   "cell_type": "markdown",
   "metadata": {
    "id": "xzLiIE6NlHQ3"
   },
   "source": [
    "<a id=\"section5\"></a>\n",
    "### 2.2 Descenso por el gradiente\n",
    "\n",
    "En el ejemplo anterior se implemento el descenso por el gradiente para un problema de regresion univariable. La unica diferencia es que ahora existe una caracteristica adicional en la matriz $X$. La función de hipótesis y la regla de actualización del descenso del gradiente por lotes permanecen sin cambios.\n",
    "\n",
    "La implementacion de las funciones `computeCostMulti` y `gradientDescentMulti` son similares a la funcion de costo y función de descenso por el gradiente de la regresión lineal multiple es similar al de la regresion lineal multivariable. Es importante garantizar que el codigo soporte cualquier numero de caracteristicas y esten bien vectorizadas.\n",
    "\n",
    "Se puede utilizar `shape`, propiedad de los arrays `numpy`, para identificar cuantas caracteristicas estan consideradas en el dataset.\n",
    "\n",
    "<div class=\"alert alert-block alert-warning\">\n",
    "**Nota de implementación:** En el caso de multivariables, la función de costo puede se escrita considerando la forma vectorizada de la siguiente manera:\n",
    "\n",
    "$$ J(\\theta) = \\frac{1}{2m}(X\\theta - \\vec{y})^T(X\\theta - \\vec{y}) $$\n",
    "\n",
    "donde:\n",
    "\n",
    "$$ X = \\begin{pmatrix}\n",
    "- (x^{(1)})^T - \\\\\n",
    "- (x^{(2)})^T - \\\\\n",
    "\\vdots \\\\\n",
    "- (x^{(m)})^T - \\\\ \\\\\n",
    "\\end{pmatrix} \\qquad \\mathbf{y} = \\begin{bmatrix} y^{(1)} \\\\ y^{(2)} \\\\ \\vdots \\\\ y^{(m)} \\\\\\end{bmatrix}$$\n",
    "\n",
    "La version vectorizada es eficiente cuando se trabaja con herramientas de calculo numericos computacional como `numpy`.\n",
    "</div>\n",
    "\n",
    "<a id=\"computeCostMulti\"></a>"
   ]
  },
  {
   "cell_type": "code",
   "execution_count": 13,
   "metadata": {
    "executionInfo": {
     "elapsed": 6,
     "status": "ok",
     "timestamp": 1755620068800,
     "user": {
      "displayName": "Carlos Walter Pacheco Lora",
      "userId": "05889892519883337793"
     },
     "user_tz": 240
    },
    "id": "EQCMN7KqlHQ3"
   },
   "outputs": [],
   "source": [
    "def computeCostMulti(X, y, theta):\n",
    "    # Inicializa algunos valores utiles\n",
    "    m = y.shape[0] # numero de ejemplos de entrenamiento\n",
    "\n",
    "    J = 0\n",
    "\n",
    "    # h = np.dot(X, theta)\n",
    "\n",
    "    J = (1/(2 * m)) * np.sum(np.square(np.dot(X, theta) - y))\n",
    "\n",
    "    return J\n"
   ]
  },
  {
   "cell_type": "code",
   "execution_count": 14,
   "metadata": {
    "executionInfo": {
     "elapsed": 0,
     "status": "ok",
     "timestamp": 1755620068801,
     "user": {
      "displayName": "Carlos Walter Pacheco Lora",
      "userId": "05889892519883337793"
     },
     "user_tz": 240
    },
    "id": "Vdy_aQUklHQ4"
   },
   "outputs": [],
   "source": [
    "def gradientDescentMulti(X, y, theta, alpha, num_iters):\n",
    "\n",
    "    # Inicializa algunos valores\n",
    "    m = y.shape[0] # numero de ejemplos de entrenamiento\n",
    "\n",
    "    # realiza una copia de theta, el cual será acutalizada por el descenso por el gradiente\n",
    "\n",
    "    theta = theta.copy()\n",
    "\n",
    "    J_history = []\n",
    "\n",
    "    for i in range(num_iters):\n",
    "        theta = theta - (alpha / m) * (np.dot(X, theta) - y).dot(X)\n",
    "        J_history.append(computeCostMulti(X, y, theta))\n",
    "\n",
    "    return theta, J_history"
   ]
  },
  {
   "cell_type": "markdown",
   "metadata": {
    "id": "a8b_GwZslHQ4"
   },
   "source": [
    "#### 3.2.1 Seleccionando coheficientes de aprendizaje\n"
   ]
  },
  {
   "cell_type": "code",
   "execution_count": 15,
   "metadata": {
    "colab": {
     "base_uri": "https://localhost:8080/",
     "height": 520
    },
    "executionInfo": {
     "elapsed": 210,
     "status": "ok",
     "timestamp": 1755620069012,
     "user": {
      "displayName": "Carlos Walter Pacheco Lora",
      "userId": "05889892519883337793"
     },
     "user_tz": 240
    },
    "id": "sId0DiH9lHQ4",
    "outputId": "16f13675-b968-4004-f773-8ec7ccfcb95a"
   },
   "outputs": [
    {
     "name": "stdout",
     "output_type": "stream",
     "text": [
      "theta calculado por el descenso por el gradiente (primeros 10): [177673.560325    -3777.53684482   -545.9622917    4231.94165981\n",
      "  11449.89252285   4990.28055336   2829.23156163   3077.65077473\n",
      "   4365.06576528   3501.77907361]\n",
      "El precio predecido para la primera casa del dataset (usando el descenso por el gradiente): $152647\n"
     ]
    }
   ],
   "source": [
    "# Elegir algun valor para alpha (probar varias alternativas)\n",
    "alpha = 0.01\n",
    "num_iters = 400\n",
    "\n",
    "# inicializa theta y ejecuta el descenso por el gradiente\n",
    "theta = np.zeros(X.shape[1])\n",
    "theta, J_history = gradientDescentMulti(X, y, theta, alpha, num_iters)\n",
    "\n",
    "# Grafica la convergencia del costo\n",
    "pyplot.plot(np.arange(len(J_history)), J_history, lw=2)\n",
    "pyplot.xlabel('Numero de iteraciones')\n",
    "pyplot.ylabel('Costo J')\n",
    "\n",
    "# Muestra los resultados del descenso por el gradiente\n",
    "print('theta calculado por el descenso por el gradiente (primeros 10): {:s}'.format(str(theta[:10])))\n",
    "\n",
    "# Ejemplo de predicción (se debe normalizar igual que el entrenamiento)\n",
    "# Aquí escogemos una fila del dataset original para probar\n",
    "sample = data.drop(columns=[\"Id\", \"SalePrice\"]).iloc[0:1]\n",
    "sample = pd.get_dummies(sample, drop_first=True).reindex(columns=pd.get_dummies(data.drop(columns=[\"Id\", \"SalePrice\"]), drop_first=True).columns, fill_value=0)\n",
    "sample = (sample.values - mu) / sigma\n",
    "sample = np.concatenate([np.ones((1, 1)), sample], axis=1)\n",
    "price = np.dot(sample, theta)\n",
    "\n",
    "print('El precio predecido para la primera casa del dataset (usando el descenso por el gradiente): ${:.0f}'.format(price[0]))\n"
   ]
  },
  {
   "cell_type": "markdown",
   "metadata": {
    "id": "-nMzqD8elHQ4"
   },
   "source": [
    "<a id=\"section7\"></a>\n",
    "### 2.3 Ecuacion de la Normal\n",
    "\n",
    "Una manera de calcular rapidamente el modelo de una regresion lineal es:\n",
    "\n",
    "$$ \\theta = \\left( X^T X\\right)^{-1} X^T\\vec{y}$$\n",
    "\n",
    "Utilizando esta formula no requiere que se escale ninguna caracteristica, y se obtendra una solucion exacta con un solo calculo: no hay “bucles de convergencia” como en el descenso por el gradiente.\n",
    "\n",
    "Primero se recargan los datos para garantizar que las variables no esten modificadas. Recordar que no es necesario escalar las caracteristicas, se debe agregar la columna de unos a la matriz $X$ para tener el termino de intersección($\\theta_0$)."
   ]
  },
  {
   "cell_type": "code",
   "execution_count": 19,
   "metadata": {
    "executionInfo": {
     "elapsed": 10,
     "status": "ok",
     "timestamp": 1755620069033,
     "user": {
      "displayName": "Carlos Walter Pacheco Lora",
      "userId": "05889892519883337793"
     },
     "user_tz": 240
    },
    "id": "gVZdjjk9lHQ5"
   },
   "outputs": [],
   "source": [
    "def normalEqn(X, y):\n",
    "\n",
    "    theta = np.zeros(X.shape[1])\n",
    "\n",
    "    theta = np.dot(np.dot(np.linalg.inv(np.dot(X.T,X)),X.T),y)\n",
    "\n",
    "    return theta"
   ]
  },
  {
   "cell_type": "code",
   "execution_count": 20,
   "metadata": {
    "colab": {
     "base_uri": "https://localhost:8080/"
    },
    "executionInfo": {
     "elapsed": 14,
     "status": "ok",
     "timestamp": 1755620069047,
     "user": {
      "displayName": "Carlos Walter Pacheco Lora",
      "userId": "05889892519883337793"
     },
     "user_tz": 240
    },
    "id": "Ybyw-FfolHQ5",
    "outputId": "76a78514-3ba0-447d-fde2-9340054eb2ee"
   },
   "outputs": [
    {
     "name": "stdout",
     "output_type": "stream",
     "text": [
      "Theta calculado a partir de la ecuación de la normal (primeros 10): [-8.83899704e+05 -2.25773313e+07  1.51547637e+05 -1.74981087e+05\n",
      " -2.29766889e+06 -2.26444234e+06 -4.93753812e+06  5.17359054e+05\n",
      "  1.90659008e+05 -3.77311665e+21]\n",
      "Precio predecido para la primera casa del dataset (usando la ecuación de la normal): $-582132236289915748352\n"
     ]
    }
   ],
   "source": [
    "theta = normalEqn(X, y);\n",
    "print('Theta calculado a partir de la ecuación de la normal (primeros 10): {:s}'.format(str(theta[:10])));\n",
    "\n",
    "# Ejemplo de predicción con la ecuación normal\n",
    "price = np.dot(sample, theta)\n",
    "print('Precio predecido para la primera casa del dataset (usando la ecuación de la normal): ${:.0f}'.format(price[0]))"
   ]
  },
  {
   "cell_type": "code",
   "execution_count": null,
   "metadata": {},
   "outputs": [],
   "source": []
  }
 ],
 "metadata": {
  "colab": {
   "provenance": []
  },
  "kernelspec": {
   "display_name": "Python [conda env:base] *",
   "language": "python",
   "name": "conda-base-py"
  },
  "language_info": {
   "codemirror_mode": {
    "name": "ipython",
    "version": 3
   },
   "file_extension": ".py",
   "mimetype": "text/x-python",
   "name": "python",
   "nbconvert_exporter": "python",
   "pygments_lexer": "ipython3",
   "version": "3.13.5"
  }
 },
 "nbformat": 4,
 "nbformat_minor": 4
}
